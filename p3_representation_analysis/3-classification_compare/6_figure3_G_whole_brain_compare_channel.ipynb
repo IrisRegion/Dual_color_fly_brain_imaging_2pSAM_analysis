{
 "cells": [
  {
   "cell_type": "code",
   "execution_count": 1,
   "metadata": {},
   "outputs": [],
   "source": [
    "import numpy as np\n",
    "import os\n",
    "import pandas as pd\n",
    "import matplotlib.pyplot as plt\n",
    "import matplotlib as mpl\n",
    "from scipy.stats import mannwhitneyu\n",
    "import math"
   ]
  },
  {
   "cell_type": "code",
   "execution_count": 2,
   "metadata": {},
   "outputs": [],
   "source": [
    "if_save = False\n",
    "if_shuffle = False\n",
    "dim_thresh = 25"
   ]
  },
  {
   "cell_type": "code",
   "execution_count": 3,
   "metadata": {},
   "outputs": [
    {
     "name": "stdout",
     "output_type": "stream",
     "text": [
      "(10, 3, 50, 5, 2)\n",
      "(10, 3, 50, 2)\n",
      "(10, 3, 2)\n"
     ]
    }
   ],
   "source": [
    "# load Ach data\n",
    "result_path = '../results/Ach-ver16'\n",
    "sub_path_1 = 'voxel-integration-region-SRD-long-formal'\n",
    "filename = 'accuracy' # accuracy / accuracy_svm / AUC_weighted / f1_weighted\n",
    "fly_selected = [0,1,2,3,4,5,6,7,8,9]\n",
    "num_fly = len(fly_selected)\n",
    "# read voxel\n",
    "file_folders = os.listdir(result_path)\n",
    "data_1 = []\n",
    "num_dim_1 = []\n",
    "for i in range(num_fly):\n",
    "    # load data\n",
    "    the_path = result_path + '/' + file_folders[fly_selected[i]] + '/' + sub_path_1 + '/' + 'list_list_' + filename + '.npy'\n",
    "    folder = os.path.exists(the_path)\n",
    "    if not folder:\n",
    "        continue\n",
    "    a = np.load(the_path)\n",
    "    a = np.squeeze(a)\n",
    "    if np.size(a,1) == 5:\n",
    "        a = np.squeeze(a[:,2,:,:,:])\n",
    "    data_1.append(a)\n",
    "    # load num_dim\n",
    "    the_path = result_path + '/' + file_folders[fly_selected[i]] + '/' + sub_path_1 + '/' + 'list_list_num_dim.npy'\n",
    "    folder = os.path.exists(the_path)\n",
    "    if not folder:\n",
    "        continue\n",
    "    a = np.load(the_path)\n",
    "    a = np.squeeze(a)\n",
    "    if np.size(a,1) == 5:\n",
    "        a = np.squeeze(a[:,2,:,:])\n",
    "    num_dim_1.append(a)\n",
    "data_1 = np.array(data_1)\n",
    "print(np.shape(data_1))\n",
    "num_dim_1 = np.array(num_dim_1)\n",
    "print(np.shape(num_dim_1))\n",
    "\n",
    "# voxel threshold\n",
    "max_data_1 = np.zeros((num_fly,np.size(data_1,1),np.size(data_1,4)))\n",
    "for i in range(num_fly):\n",
    "    for j in range(np.size(data_1,1)):\n",
    "        for k in range(np.size(data_1,4)):\n",
    "            flag = 0\n",
    "            for m in range(np.size(data_1,2)):\n",
    "                if num_dim_1[i,j,m,k]>=dim_thresh:\n",
    "                    flag = m\n",
    "                    break\n",
    "            a = data_1[i,j,int(flag),:,k]\n",
    "            max_data_1[i,j,k] = np.mean(a)\n",
    "print(np.shape(max_data_1))\n",
    "\n",
    "figure_save_path = result_path + '/' + 'figures-for-ver16-final6'\n",
    "folder = os.path.exists(figure_save_path)\n",
    "if not folder:\n",
    "    os.makedirs(figure_save_path)"
   ]
  },
  {
   "cell_type": "code",
   "execution_count": 4,
   "metadata": {},
   "outputs": [
    {
     "name": "stdout",
     "output_type": "stream",
     "text": [
      "(10, 3, 50, 5, 2)\n",
      "(10, 3, 50, 2)\n",
      "(10, 3, 2)\n"
     ]
    }
   ],
   "source": [
    "# load 5ht data\n",
    "result_path = '../results/5HT-ver16'\n",
    "sub_path_1 = 'voxel-integration-region-SRD-long-formal'\n",
    "filename = 'accuracy' # accuracy / accuracy_svm / AUC_weighted / f1_weighted\n",
    "fly_selected = [0,1,2,3,4,5,6,7,8,9]\n",
    "num_fly = len(fly_selected)\n",
    "# read voxel\n",
    "file_folders = os.listdir(result_path)\n",
    "data_2 = []\n",
    "num_dim_2 = []\n",
    "for i in range(num_fly):\n",
    "    # load data\n",
    "    the_path = result_path + '/' + file_folders[fly_selected[i]] + '/' + sub_path_1 + '/' + 'list_list_' + filename + '.npy'\n",
    "    folder = os.path.exists(the_path)\n",
    "    if not folder:\n",
    "        continue\n",
    "    a = np.load(the_path)\n",
    "    a = np.squeeze(a)\n",
    "    if np.size(a,1) == 5:\n",
    "        a = np.squeeze(a[:,2,:,:,:])\n",
    "    data_2.append(a)\n",
    "    # load num_dim\n",
    "    the_path = result_path + '/' + file_folders[fly_selected[i]] + '/' + sub_path_1 + '/' + 'list_list_num_dim.npy'\n",
    "    folder = os.path.exists(the_path)\n",
    "    if not folder:\n",
    "        continue\n",
    "    a = np.load(the_path)\n",
    "    a = np.squeeze(a)\n",
    "    if np.size(a,1) == 5:\n",
    "        a = np.squeeze(a[:,2,:,:])\n",
    "    num_dim_2.append(a)\n",
    "data_2 = np.array(data_2)\n",
    "print(np.shape(data_2))\n",
    "num_dim_2 = np.array(num_dim_2)\n",
    "print(np.shape(num_dim_2))\n",
    "\n",
    "# voxel threshold\n",
    "max_data_2 = np.zeros((num_fly,np.size(data_2,1),np.size(data_2,4)))\n",
    "for i in range(num_fly):\n",
    "    for j in range(np.size(data_2,1)):\n",
    "        for k in range(np.size(data_2,4)):\n",
    "            flag = 0\n",
    "            for m in range(np.size(data_2,2)):\n",
    "                if num_dim_2[i,j,m,k]>=dim_thresh :\n",
    "                    flag = m\n",
    "                    break\n",
    "            a = data_2[i,j,int(flag),:,k]\n",
    "            max_data_2[i,j,k] = np.mean(a)\n",
    "print(np.shape(max_data_2))"
   ]
  },
  {
   "cell_type": "code",
   "execution_count": 5,
   "metadata": {},
   "outputs": [
    {
     "name": "stdout",
     "output_type": "stream",
     "text": [
      "(10, 2)\n",
      "(10, 2)\n"
     ]
    }
   ],
   "source": [
    "if not if_shuffle:\n",
    "    max_data_1 = max_data_1[:,1:3,0]\n",
    "    max_data_2 = max_data_2[:,1:3,0]\n",
    "else:\n",
    "    max_data_1 = max_data_1[:,1:3,1]\n",
    "    max_data_2 = max_data_2[:,1:3,1]\n",
    "print(np.shape(max_data_1))\n",
    "print(np.shape(max_data_2))"
   ]
  },
  {
   "cell_type": "code",
   "execution_count": 6,
   "metadata": {},
   "outputs": [
    {
     "name": "stdout",
     "output_type": "stream",
     "text": [
      "(20,)\n",
      "(10,)\n",
      "(10,)\n"
     ]
    }
   ],
   "source": [
    "data_g7f = np.concatenate((np.squeeze(max_data_1[:,0]),np.squeeze(max_data_2[:,0])),axis = 0)*100\n",
    "data_ach = np.squeeze(max_data_1[:,1])*100\n",
    "data_5ht = np.squeeze(max_data_2[:,1])*100\n",
    "print(np.shape(data_g7f))\n",
    "print(np.shape(data_ach))\n",
    "print(np.shape(data_5ht))"
   ]
  },
  {
   "cell_type": "code",
   "execution_count": 7,
   "metadata": {},
   "outputs": [
    {
     "data": {
      "image/png": "[encoded data removed]",
      "text/plain": [
       "<Figure size 300x300 with 1 Axes>"
      ]
     },
     "metadata": {},
     "output_type": "display_data"
    }
   ],
   "source": [
    "# plot\n",
    "plt.figure(figsize = (3,3))\n",
    "ax = plt.axes()\n",
    "ax.spines['top'].set_visible(False)\n",
    "ax.spines['right'].set_visible(False)\n",
    "# g7f\n",
    "the_mean = np.mean(data_g7f)\n",
    "the_std = np.std(data_g7f,0,ddof = 1)/math.sqrt(len(data_g7f))\n",
    "plt.bar([0], the_mean, width=0.7,yerr = the_std,error_kw = {'ecolor' : '0.2', 'capsize' :3 },\n",
    "                     alpha=0.7,facecolor = 'white',edgecolor='#006934',linewidth=1.5)\n",
    "# ach\n",
    "the_mean = np.mean(data_ach)\n",
    "the_std = np.std(data_ach,0,ddof = 1)/math.sqrt(len(data_ach))\n",
    "plt.bar([1], the_mean, width=0.7,yerr = the_std,error_kw = {'ecolor' : '0.2', 'capsize' :3 },\n",
    "                     alpha=0.7,facecolor = 'white',edgecolor='#751C77',linewidth=1.5)\n",
    "# 5ht\n",
    "the_mean = np.mean(data_5ht)\n",
    "the_std = np.std(data_5ht,0,ddof = 1)/math.sqrt(len(data_5ht))\n",
    "plt.bar([2], the_mean, width=0.7,yerr = the_std,error_kw = {'ecolor' : '0.2', 'capsize' :3 },\n",
    "                     alpha=0.7,facecolor = 'white',edgecolor='#036EB8',linewidth=1.5)\n",
    "\n",
    "plt.xticks([0,1,2],['G7f','rAch','r5HT'])\n",
    "plt.ylabel(filename + ' (%)')\n",
    "plt.ylim(0,100)\n",
    "\n",
    "# * g7f and ach\n",
    "res = mannwhitneyu(data_g7f,data_ach)\n",
    "p = res.pvalue\n",
    "if p<0.05 and p>=0.01:\n",
    "    plt.text(0.5,101,'*',verticalalignment = 'center', horizontalalignment = 'center')\n",
    "elif p<0.01 and p>0.001:\n",
    "    plt.text(0.5,101,'**',verticalalignment = 'center', horizontalalignment = 'center')\n",
    "elif p<0.001 and p>=0.0001:\n",
    "    plt.text(0.5,101,'***',verticalalignment = 'center', horizontalalignment = 'center') \n",
    "elif p<0.0001:\n",
    "    plt.text(0.5,101,'****',verticalalignment = 'center', horizontalalignment = 'center') \n",
    "\n",
    "# * g7f and 5ht\n",
    "res = mannwhitneyu(data_g7f,data_5ht)\n",
    "p = res.pvalue\n",
    "if p<0.05 and p>=0.01:\n",
    "    plt.text(1,101,'*',verticalalignment = 'center', horizontalalignment = 'center')\n",
    "elif p<0.01 and p>0.001:\n",
    "    plt.text(1,101,'**',verticalalignment = 'center', horizontalalignment = 'center')\n",
    "elif p<0.001 and p>=0.0001:\n",
    "    plt.text(1,101,'***',verticalalignment = 'center', horizontalalignment = 'center') \n",
    "elif p<0.0001:\n",
    "    plt.text(1,101,'****',verticalalignment = 'center', horizontalalignment = 'center') \n",
    "\n",
    "# * g7f and 5ht\n",
    "res = mannwhitneyu(data_ach,data_5ht)\n",
    "p = res.pvalue\n",
    "if p<0.05 and p>=0.01:\n",
    "    plt.text(1.5,101,'*',verticalalignment = 'center', horizontalalignment = 'center')\n",
    "elif p<0.01 and p>0.001:\n",
    "    plt.text(1.5,101,'**',verticalalignment = 'center', horizontalalignment = 'center')\n",
    "elif p<0.001 and p>=0.0001:\n",
    "    plt.text(1.5,101,'***',verticalalignment = 'center', horizontalalignment = 'center') \n",
    "elif p<0.0001:\n",
    "    plt.text(1.5,101,'****',verticalalignment = 'center', horizontalalignment = 'center') \n",
    "if if_save:\n",
    "    mpl.rcParams['pdf.fonttype'] = 42\n",
    "    mpl.rcParams['ps.fonttype'] = 42\n",
    "    plt.savefig(figure_save_path + '/' + '4D_whole_auc_channel_compare.pdf',bbox_inches = 'tight')\n",
    "    plt.savefig(figure_save_path + '/' + '4D_whole_auc_channel_compare.png',bbox_inches = 'tight')\n",
    "plt.show()\n"
   ]
  }
 ],
 "metadata": {
  "kernelspec": {
   "display_name": "Python 3",
   "language": "python",
   "name": "python3"
  },
  "language_info": {
   "codemirror_mode": {
    "name": "ipython",
    "version": 3
   },
   "file_extension": ".py",
   "mimetype": "text/x-python",
   "name": "python",
   "nbconvert_exporter": "python",
   "pygments_lexer": "ipython3",
   "version": "3.9.13"
  },
  "orig_nbformat": 4
 },
 "nbformat": 4,
 "nbformat_minor": 2
}
