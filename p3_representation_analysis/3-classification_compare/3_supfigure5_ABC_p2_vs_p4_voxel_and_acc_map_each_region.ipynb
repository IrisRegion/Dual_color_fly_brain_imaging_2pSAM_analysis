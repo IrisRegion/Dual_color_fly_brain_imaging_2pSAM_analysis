{
 "cells": [
  {
   "cell_type": "code",
   "execution_count": 15,
   "metadata": {},
   "outputs": [],
   "source": [
    "import numpy as np\n",
    "import os\n",
    "import pandas as pd\n",
    "import matplotlib.pyplot as plt\n",
    "from scipy.stats import wilcoxon\n",
    "import tifffile as tf\n",
    "import math\n",
    "import matplotlib as mpl"
   ]
  },
  {
   "cell_type": "code",
   "execution_count": 16,
   "metadata": {},
   "outputs": [],
   "source": [
    "# file_folder_list_1 = ['20230417-nsyb-G7f-rAch1h/fly2',\n",
    "#                         '20230420-nsyb-G7f-rAch1h/fly2',\n",
    "#                         '20230420-nsyb-G7f-rAch1h/fly3',\n",
    "#                         '20230428-nsyb-G7f-rAch1h/fly1',\n",
    "#                         '20230507-nsyb-G7f-rAch1h/fly1',\n",
    "#                         '20230510-nsyb-G7f-rAch1h/fly1',\n",
    "#                         '20230510-nsyb-G7f-rAch1h/fly2',\n",
    "#                         '20230511-nsyb-G7f-rAch1h/fly2',\n",
    "#                         '20230511-nsyb-G7f-rAch1h/fly3',\n",
    "#                         '20230515-nsyb-G7f-rAch1h/fly1']\n",
    "# file_folder_list_2 = ['20230417-fly2', '20230420-fly2', '20230420-fly3', '20230428-fly1', \n",
    "#                  '20230507-fly1', '20230510-fly1', '20230510-fly2', '20230511-fly2', '20230511-fly3', '20230515-fly1']\n",
    "file_folder_list_1 = ['20230429-nsyb-G7f-r5HT1.0/fly1',\n",
    "                        '20230506-nsyb-G7f-r5HT1.0/fly1',\n",
    "                        '20230513-nsyb-G7f-r5HT1.0/fly1',\n",
    "                        '20230513-nsyb-G7f-r5HT1.0/fly2',\n",
    "                        '20230516-nsyb-G7f-r5HT1.0/fly2',\n",
    "                        '20230516-nsyb-G7f-r5HT1.0/fly4',\n",
    "                        '20230517-nsyb-G7f-r5HT1.0/fly1',\n",
    "                        '20230601-nsyb-G7f-r5HT1.0/fly1',\n",
    "                        '20230601-nsyb-G7f-r5HT1.0/fly3',\n",
    "                        '20230603-nsyb-G7f-r5HT1.0/fly1']\n",
    "file_folder_list_2 = ['20230429-r5HT1.0-fly1', '20230506-r5HT1.0-fly1', '20230513-r5HT1.0-fly1', '20230513-r5HT1.0-fly2', \n",
    "                '20230516-r5HT1.0-fly2', '20230516-r5HT1.0-fly4', '20230517-r5HT1.0-fly1', '20230601-r5HT1.0-fly1', \n",
    "                '20230601-r5HT1.0-fly3', '20230603-r5HT1.0-fly1']"
   ]
  },
  {
   "cell_type": "code",
   "execution_count": 17,
   "metadata": {},
   "outputs": [],
   "source": [
    "# parameters_all\n",
    "result_path = '../results/5HT-ver16'\n",
    "list_fly = [0,1,2,3,4,5,6,7,8,9]###### choose fly\n",
    "if_save = False\n",
    "figure_save_path = result_path + '/' + 'figures-for-ver16-final6'\n",
    "num_fly = len(list_fly)\n",
    "folder = os.path.exists(figure_save_path)\n",
    "if not folder:\n",
    "    os.makedirs(figure_save_path)\n",
    "\n",
    "\n",
    "# brain region\n",
    "br_index = np.array([64,65,66,55,72,73,74,63,23])\n",
    "br_name = np.array(['MBPED_L','MBVL_L','MBML_L','LH_L','SLP_L','SIP_L','SMP_L','CRE_L','EB'])\n",
    "# thresh\n",
    "voxel_thresh = 0.8"
   ]
  },
  {
   "cell_type": "code",
   "execution_count": 18,
   "metadata": {},
   "outputs": [
    {
     "name": "stdout",
     "output_type": "stream",
     "text": [
      "(10, 8)\n",
      "(10, 8)\n"
     ]
    }
   ],
   "source": [
    "# accuracy map\n",
    "# parameters_acc_map\n",
    "sub_path = 'Accuracy_map_DEEPCAD_formal'\n",
    "atlas_path = '../../../results/3.odor_random_90_times_OCT_MCH_EA_new/nsyb-G7f-r5HT1.0'\n",
    "atlas_file_name = 'align_to_atlas/Transformed_atlas_eroded_r5.tif'\n",
    "atlas_z_range = range(13,38)\n",
    "win_x = 4\n",
    "win_y = 4\n",
    "win_z = 2\n",
    "num_channel_choice = 3\n",
    "num_odor_choice = 1\n",
    "filename = 'acc' # acc / auc_weighted / precision_weighted / recall_weighted / f1_weighted\n",
    "channel_selected = 2 # 1-G7f, 2-NM, 0-Both\n",
    "odor_selected = 0\n",
    "flag_name = 'Accuracy' \n",
    "\n",
    "\n",
    "# compute \n",
    "list_acc_mean = np.zeros((num_fly,len(br_index[br_name!='EB']),num_channel_choice,num_odor_choice))\n",
    "list_acc_max = np.zeros((num_fly,len(br_index[br_name!='EB']),num_channel_choice,num_odor_choice))\n",
    "for i,id in enumerate(list_fly):\n",
    "    # load map\n",
    "    the_path = result_path + '/' + file_folder_list_2[id] + '/' + sub_path + '/' + filename + '.npy'\n",
    "    folder = os.path.exists(the_path)\n",
    "    if not folder:\n",
    "        continue\n",
    "    a = np.load(the_path)\n",
    "    # print(np.shape(a))\n",
    "\n",
    "    # load atlas\n",
    "    the_atlas_path = atlas_path + '/' + file_folder_list_1[id] + '/' + atlas_file_name\n",
    "    atlas= tf.imread(the_atlas_path)\n",
    "    atlas = np.transpose(atlas,[1,2,0])\n",
    "    atlas = atlas[:,:,atlas_z_range]\n",
    "    atlas = atlas[range(int(win_x/2),np.size(atlas,0),win_x),:,:]\n",
    "    atlas = atlas[:,range(int(win_y/2),np.size(atlas,1),win_y),:]\n",
    "    atlas = atlas[:,:,range(0,np.size(atlas,2),win_z)]\n",
    "    # print('load atlas done! size:')\n",
    "    # print(np.shape(atlas))\n",
    "    br_index_1 = br_index[br_name!='EB']\n",
    "    for j,index in enumerate(br_index_1):\n",
    "        mask = atlas == index\n",
    "        if np.sum(mask)>0:\n",
    "            flag = a[:,:,mask]\n",
    "            if flag.ndim==3:\n",
    "                data = np.mean(flag,2)\n",
    "                data_1 = np.max(flag,2)\n",
    "            elif flag.ndim==2:\n",
    "                data = flag \n",
    "                data_1 = flag\n",
    "            list_acc_mean[i,j,:,:] = data\n",
    "            list_acc_max[i,j,:,:] = data_1\n",
    "\n",
    "\n",
    "\n",
    "list_acc_selected_mean = np.squeeze(list_acc_mean[:,:,channel_selected,odor_selected])\n",
    "list_acc_selected_mean = list_acc_selected_mean*100\n",
    "list_acc_selected_max = np.squeeze(list_acc_max[:,:,channel_selected,odor_selected])\n",
    "list_acc_selected_max = list_acc_selected_max*100\n",
    "\n",
    "print(np.shape(list_acc_selected_mean))\n",
    "print(np.shape(list_acc_selected_max ))"
   ]
  },
  {
   "cell_type": "code",
   "execution_count": 19,
   "metadata": {},
   "outputs": [
    {
     "data": {
      "text/plain": [
       "(10, 8)"
      ]
     },
     "execution_count": 19,
     "metadata": {},
     "output_type": "execute_result"
    }
   ],
   "source": [
    "# voxel-region\n",
    "# parameters_voxel\n",
    "sub_path_2 = 'each_region_L-DEEPCAD-formal'\n",
    "filename = 'accuracy' # accuracy / accuracy_svm / AUC_weighted / f1_weighted\n",
    "channel_selected = 2 # 1-G7f, 2-NM, 0-Both\n",
    "thresh = np.arange(0,1,0.02)\n",
    "\n",
    "# compute\n",
    "data_2 = []\n",
    "for i in range(num_fly):\n",
    "    the_path = result_path + '/' + file_folder_list_2[list_fly[i]] + '/' + sub_path_2 + '/' + 'list_' + filename + '_each_region.npy'\n",
    "    folder = os.path.exists(the_path)\n",
    "    if not folder:\n",
    "        continue\n",
    "    a = np.load(the_path)\n",
    "    a = np.squeeze(a)\n",
    "    data_2.append(a)\n",
    "data_2 = np.array(data_2)\n",
    "max_data_2 = np.mean(data_2,4)\n",
    "max_data_2 = np.squeeze(max_data_2[:,:,:,thresh==voxel_thresh,:])\n",
    "max_data_2 = max_data_2[:,channel_selected,br_name!='EB',0]*100\n",
    "np.shape(max_data_2)"
   ]
  },
  {
   "cell_type": "code",
   "execution_count": 20,
   "metadata": {},
   "outputs": [
    {
     "data": {
      "image/png": "[encoded data removed]",
      "text/plain": [
       "<Figure size 200x200 with 1 Axes>"
      ]
     },
     "metadata": {},
     "output_type": "display_data"
    }
   ],
   "source": [
    "the_mean_am = np.zeros(np.size(list_acc_selected_mean,1))\n",
    "the_mean_vr = np.zeros(np.size(max_data_2,1))\n",
    "for i in range(np.size(max_data_2,1)):\n",
    "    a = list_acc_selected_mean[:,i]\n",
    "    the_mean_am[i] = np.nanmean(a[a!=0])\n",
    "    b = max_data_2[:,i]\n",
    "    the_mean_vr[i] = np.nanmean(b[b!=0])\n",
    "the_mean_am = the_mean_am[:,np.newaxis]\n",
    "the_mean_vr = the_mean_vr[:,np.newaxis]\n",
    "data = np.concatenate((the_mean_am,the_mean_vr),axis = 1)\n",
    "the_mean = np.mean(data,0)\n",
    "the_std = np.std(data,0,ddof = 1)/math.sqrt(np.size(data,0))\n",
    "plt.figure(figsize = (2,2))\n",
    "ax = plt.axes()\n",
    "ax.spines['top'].set_visible(False)\n",
    "ax.spines['right'].set_visible(False)\n",
    "plt.errorbar(range(2),the_mean,yerr=the_std,ecolor='slategray',elinewidth=1,marker='.',mfc='slategray',\\\n",
    "mec='slategray',mew=1,ms=1,alpha=1,capsize=5,capthick=3,color='slategray', linewidth=2)\n",
    "for i in range(np.size(data,0)):\n",
    "    plt.plot(data[i,:],color='slategray', linewidth=1,alpha = 0.2)\n",
    "res = wilcoxon(data[:,0],data[:,1])\n",
    "p = res.pvalue\n",
    "if p<0.05 and p>=0.01:\n",
    "    plt.text(0.5,60,'*',verticalalignment = 'center', horizontalalignment = 'center')\n",
    "elif p<0.01 and p>0.001:\n",
    "    plt.text(0.5,60,'**',verticalalignment = 'center', horizontalalignment = 'center')\n",
    "elif p<0.001 and p>=0.0001:\n",
    "    plt.text(0.5,60,'***',verticalalignment = 'center', horizontalalignment = 'center') \n",
    "elif p<0.0001:\n",
    "    plt.text(0.5,60,'****',verticalalignment = 'center', horizontalalignment = 'center') \n",
    "plt.xticks([0,1],['Mean','Voxel'])\n",
    "plt.ylim((30,82))\n",
    "plt.ylabel(flag_name + ' (%)')\n",
    "if if_save:\n",
    "    mpl.rcParams['pdf.fonttype'] = 42\n",
    "    mpl.rcParams['ps.fonttype'] = 42\n",
    "    plt.savefig(figure_save_path + '/' + '2D_am_vr_compare_C'+ str(channel_selected) +'.pdf',dpi = 300,bbox_inches = 'tight')\n",
    "    plt.savefig(figure_save_path + '/' + '2D_am_vr_compare_C'+ str(channel_selected) + '.png',dpi = 300,bbox_inches = 'tight')\n",
    "plt.show()"
   ]
  }
 ],
 "metadata": {
  "kernelspec": {
   "display_name": "fly",
   "language": "python",
   "name": "python3"
  },
  "language_info": {
   "codemirror_mode": {
    "name": "ipython",
    "version": 3
   },
   "file_extension": ".py",
   "mimetype": "text/x-python",
   "name": "python",
   "nbconvert_exporter": "python",
   "pygments_lexer": "ipython3",
   "version": "3.9.13"
  },
  "orig_nbformat": 4
 },
 "nbformat": 4,
 "nbformat_minor": 2
}
