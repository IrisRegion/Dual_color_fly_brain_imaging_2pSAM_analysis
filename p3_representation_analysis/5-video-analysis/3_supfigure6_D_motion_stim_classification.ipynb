{
 "cells": [
  {
   "cell_type": "code",
   "execution_count": 5,
   "metadata": {},
   "outputs": [],
   "source": [
    "import numpy as np\n",
    "import matplotlib as mpl\n",
    "import matplotlib.pyplot as plt\n",
    "import os\n",
    "import math\n",
    "from scipy.stats import wilcoxon"
   ]
  },
  {
   "cell_type": "code",
   "execution_count": 6,
   "metadata": {},
   "outputs": [],
   "source": [
    "fly_selected_list = ['nsyb-G7f-rAch1h/20230417-nsyb-G7f-rAch1h/fly2/data_motion',\n",
    "                     'nsyb-G7f-rAch1h/20230420-nsyb-G7f-rAch1h/fly2/data_motion',\n",
    "                     'nsyb-G7f-rAch1h/20230420-nsyb-G7f-rAch1h/fly3/data_motion',\n",
    "                     'nsyb-G7f-rAch1h/20230428-nsyb-G7f-rAch1h/fly1/data_motion',\n",
    "                     'nsyb-G7f-rAch1h/20230507-nsyb-G7f-rAch1h/fly1/data_motion',\n",
    "                     'nsyb-G7f-rAch1h/20230510-nsyb-G7f-rAch1h/fly1/data_motion',\n",
    "                     'nsyb-G7f-rAch1h/20230510-nsyb-G7f-rAch1h/fly2/data_motion',\n",
    "                     'nsyb-G7f-rAch1h/20230511-nsyb-G7f-rAch1h/fly2/data_motion',\n",
    "                     'nsyb-G7f-rAch1h/20230511-nsyb-G7f-rAch1h/fly3/data_motion',\n",
    "                     'nsyb-G7f-rAch1h/20230515-nsyb-G7f-rAch1h/fly1/data_motion',\n",
    "                     'nsyb-G7f-r5HT1.0/20230429-nsyb-G7f-r5HT1.0/fly1/data_motion',\n",
    "                     'nsyb-G7f-r5HT1.0/20230506-nsyb-G7f-r5HT1.0/fly1/data_motion',\n",
    "                     'nsyb-G7f-r5HT1.0/20230513-nsyb-G7f-r5HT1.0/fly1/data_motion',\n",
    "                     'nsyb-G7f-r5HT1.0/20230513-nsyb-G7f-r5HT1.0/fly2/data_motion',\n",
    "                     'nsyb-G7f-r5HT1.0/20230516-nsyb-G7f-r5HT1.0/fly2/data_motion',\n",
    "                     'nsyb-G7f-r5HT1.0/20230516-nsyb-G7f-r5HT1.0/fly4/data_motion',\n",
    "                     'nsyb-G7f-r5HT1.0/20230517-nsyb-G7f-r5HT1.0/fly1/data_motion',\n",
    "                     'nsyb-G7f-r5HT1.0/20230601-nsyb-G7f-r5HT1.0/fly1/data_motion',\n",
    "                     'nsyb-G7f-r5HT1.0/20230601-nsyb-G7f-r5HT1.0/fly3/data_motion',\n",
    "                     'nsyb-G7f-r5HT1.0/20230603-nsyb-G7f-r5HT1.0/fly1/data_motion']"
   ]
  },
  {
   "cell_type": "code",
   "execution_count": 7,
   "metadata": {},
   "outputs": [],
   "source": [
    "file_save_path = 'motion_analysis'\n",
    "motion_result_path = '../../../results/3.odor_random_90_times_OCT_MCH_EA_new'\n",
    "neural_result_path = '../results'\n",
    "filename_1 = 'stim_classification_accuracy.npy'\n",
    "filename_2 = 'odor_classification_accuracy.npy'\n",
    "the_color = 'dimgrey'\n",
    "if_save = False\n",
    "the_save_path = os.path.join(neural_result_path,file_save_path,'4_motion_stim_classification')\n",
    "folder = os.path.exists(the_save_path)\n",
    "if not folder:\n",
    "    os.makedirs(the_save_path)"
   ]
  },
  {
   "cell_type": "code",
   "execution_count": 8,
   "metadata": {},
   "outputs": [
    {
     "name": "stdout",
     "output_type": "stream",
     "text": [
      "(20, 2)\n",
      "(20, 2)\n"
     ]
    }
   ],
   "source": [
    "# load data\n",
    "acc_list_1 = []\n",
    "acc_list_2 = []\n",
    "for i_fly in range(len(fly_selected_list)):\n",
    "    fly_selected = fly_selected_list[i_fly]\n",
    "    data_1 = np.load(os.path.join(motion_result_path,fly_selected,file_save_path,filename_1))\n",
    "    data_2 = np.load(os.path.join(motion_result_path,fly_selected,file_save_path,filename_2))\n",
    "    acc_list_1.append(np.squeeze(data_1[:,49]))\n",
    "    acc_list_2.append(np.squeeze(data_2[:,49]))\n",
    "acc_list_1 = np.array(acc_list_1)\n",
    "print(np.shape(acc_list_1))\n",
    "acc_list_2 = np.array(acc_list_2)\n",
    "print(np.shape(acc_list_2))"
   ]
  },
  {
   "cell_type": "code",
   "execution_count": 9,
   "metadata": {},
   "outputs": [
    {
     "name": "stdout",
     "output_type": "stream",
     "text": [
      "[0.66092593 0.59561111]\n",
      " p:\n",
      "4.76837158203125e-05\n"
     ]
    },
    {
     "data": {
      "text/plain": [
       "<Figure size 288x216 with 0 Axes>"
      ]
     },
     "metadata": {},
     "output_type": "display_data"
    },
    {
     "data": {
      "image/png": "[encoded data removed]",
      "text/plain": [
       "<Figure size 144x180 with 1 Axes>"
      ]
     },
     "metadata": {
      "needs_background": "light"
     },
     "output_type": "display_data"
    },
    {
     "name": "stdout",
     "output_type": "stream",
     "text": [
      "[0.29027778 0.30083333]\n",
      " p:\n",
      "0.5958194732666016\n"
     ]
    },
    {
     "data": {
      "text/plain": [
       "<Figure size 288x216 with 0 Axes>"
      ]
     },
     "metadata": {},
     "output_type": "display_data"
    },
    {
     "data": {
      "image/png": "[encoded data removed]",
      "text/plain": [
       "<Figure size 144x180 with 1 Axes>"
      ]
     },
     "metadata": {
      "needs_background": "light"
     },
     "output_type": "display_data"
    }
   ],
   "source": [
    "# plot\n",
    "for i in range(2):\n",
    "    plt.figure(figsize = (4,3))\n",
    "    if i == 0:\n",
    "        acc_list = acc_list_1\n",
    "    else:\n",
    "        acc_list = acc_list_2\n",
    "    num_fly = np.size(acc_list,0)\n",
    "    the_mean = np.mean(acc_list,0)\n",
    "    print(the_mean)\n",
    "    the_std = np.std(acc_list,0)/math.sqrt(num_fly)\n",
    "    plt.figure(figsize = (2,2.5))\n",
    "    ax = plt.axes()\n",
    "    ax.spines['top'].set_visible(False)\n",
    "    ax.spines['right'].set_visible(False)\n",
    "    for k in range(num_fly):\n",
    "        plt.plot(acc_list[k,:],c = the_color,linewidth=1,alpha = 0.2)\n",
    "    plt.errorbar(range(np.size(acc_list,1)),the_mean,yerr=the_std,ecolor=the_color,elinewidth=1,marker='.',mfc=the_color,\n",
    "    mec=the_color,mew=1,ms=1,alpha=1,capsize=5,capthick=3,color=the_color, linewidth=2)\n",
    "    plt.xticks([0,1],['Real data','Shuffled'])\n",
    "    plt.ylabel('Accuracy (%)')\n",
    "\n",
    "    res = wilcoxon(acc_list[:,0],acc_list[:,1])\n",
    "    p = res.pvalue\n",
    "    print(' p:')\n",
    "    print(p)\n",
    "    ymax = np.max(acc_list)\n",
    "    if p<0.05 and p>=0.01:\n",
    "        plt.text(0.5,ymax,'*',verticalalignment = 'center', horizontalalignment = 'center')\n",
    "    elif p<0.01 and p>0.001:\n",
    "        plt.text(0.5,ymax,'**',verticalalignment = 'center', horizontalalignment = 'center')\n",
    "    elif p<0.001 and p>=0.0001:\n",
    "        plt.text(0.5,ymax,'***',verticalalignment = 'center', horizontalalignment = 'center') \n",
    "    elif p<0.0001:\n",
    "        plt.text(0.5,ymax,'****',verticalalignment = 'center', horizontalalignment = 'center') \n",
    "    if if_save:\n",
    "        mpl.rcParams['pdf.fonttype'] = 42\n",
    "        mpl.rcParams['ps.fonttype'] = 42\n",
    "        plt.savefig(the_save_path + '/' + 'acc_'+str(i)+'.png',dpi = 300,bbox_inches = 'tight')\n",
    "        plt.savefig(the_save_path + '/' + 'acc_'+str(i)+'.pdf',dpi = 300,bbox_inches = 'tight')\n",
    "    plt.show()"
   ]
  }
 ],
 "metadata": {
  "kernelspec": {
   "display_name": "base",
   "language": "python",
   "name": "python3"
  },
  "language_info": {
   "codemirror_mode": {
    "name": "ipython",
    "version": 3
   },
   "file_extension": ".py",
   "mimetype": "text/x-python",
   "name": "python",
   "nbconvert_exporter": "python",
   "pygments_lexer": "ipython3",
   "version": "3.9.12"
  }
 },
 "nbformat": 4,
 "nbformat_minor": 2
}
